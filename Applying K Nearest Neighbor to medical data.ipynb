{
 "cells": [
  {
   "cell_type": "markdown",
   "metadata": {},
   "source": [
    "## We are going to use a Cardiotocographic data.\n",
    "## There are 2126 measurements and classifications of foetal heart rate (FHR) signals. Our response variable of label here is 'NSP' with three categories: Normal=1; Suspect=2; Pathologic=3."
   ]
  },
  {
   "cell_type": "code",
   "execution_count": 15,
   "metadata": {},
   "outputs": [],
   "source": [
    "import seaborn as sns  \n",
    "import matplotlib as plt \n",
    "from matplotlib import pyplot as plt\n",
    "from sklearn import preprocessing\n",
    "from sklearn.preprocessing import scale \n",
    "from sklearn.neighbors import KNeighborsClassifier\n",
    "import pandas as pd  \n",
    "from sklearn.model_selection import train_test_split \n",
    "import sklearn.model_selection as ms\n",
    "import sklearn.metrics as sklm\n",
    "import numpy as np \n",
    "import numpy.random as nr\n",
    "\n",
    "%matplotlib inline"
   ]
  },
  {
   "cell_type": "markdown",
   "metadata": {},
   "source": [
    "## Import the dataset"
   ]
  },
  {
   "cell_type": "code",
   "execution_count": 3,
   "metadata": {},
   "outputs": [
    {
     "name": "stdout",
     "output_type": "stream",
     "text": [
      "(2126, 22)\n",
      "['LB', 'AC', 'FM', 'UC', 'DL', 'DS', 'DP', 'ASTV', 'MSTV', 'ALTV', 'MLTV', 'Width', 'Min', 'Max', 'Nmax', 'Nzeros', 'Mode', 'Mean', 'Median', 'Variance', 'Tendency', 'NSP']\n"
     ]
    }
   ],
   "source": [
    "data = pd.read_csv('CTG.csv')\n",
    "data.head()\n",
    "data = data.dropna()\n",
    "print(data.shape)\n",
    "print(list(data.columns))"
   ]
  },
  {
   "cell_type": "code",
   "execution_count": 4,
   "metadata": {},
   "outputs": [
    {
     "data": {
      "text/html": [
       "<div>\n",
       "<style scoped>\n",
       "    .dataframe tbody tr th:only-of-type {\n",
       "        vertical-align: middle;\n",
       "    }\n",
       "\n",
       "    .dataframe tbody tr th {\n",
       "        vertical-align: top;\n",
       "    }\n",
       "\n",
       "    .dataframe thead th {\n",
       "        text-align: right;\n",
       "    }\n",
       "</style>\n",
       "<table border=\"1\" class=\"dataframe\">\n",
       "  <thead>\n",
       "    <tr style=\"text-align: right;\">\n",
       "      <th></th>\n",
       "      <th>LB</th>\n",
       "      <th>AC</th>\n",
       "      <th>FM</th>\n",
       "      <th>UC</th>\n",
       "      <th>DL</th>\n",
       "      <th>DS</th>\n",
       "      <th>DP</th>\n",
       "      <th>ASTV</th>\n",
       "      <th>MSTV</th>\n",
       "      <th>ALTV</th>\n",
       "      <th>...</th>\n",
       "      <th>Min</th>\n",
       "      <th>Max</th>\n",
       "      <th>Nmax</th>\n",
       "      <th>Nzeros</th>\n",
       "      <th>Mode</th>\n",
       "      <th>Mean</th>\n",
       "      <th>Median</th>\n",
       "      <th>Variance</th>\n",
       "      <th>Tendency</th>\n",
       "      <th>NSP</th>\n",
       "    </tr>\n",
       "  </thead>\n",
       "  <tbody>\n",
       "    <tr>\n",
       "      <th>0</th>\n",
       "      <td>120</td>\n",
       "      <td>0.000</td>\n",
       "      <td>0.0</td>\n",
       "      <td>0.000</td>\n",
       "      <td>0.000</td>\n",
       "      <td>0.0</td>\n",
       "      <td>0.0</td>\n",
       "      <td>73</td>\n",
       "      <td>0.5</td>\n",
       "      <td>43</td>\n",
       "      <td>...</td>\n",
       "      <td>62</td>\n",
       "      <td>126</td>\n",
       "      <td>2</td>\n",
       "      <td>0</td>\n",
       "      <td>120</td>\n",
       "      <td>137</td>\n",
       "      <td>121</td>\n",
       "      <td>73</td>\n",
       "      <td>1</td>\n",
       "      <td>2</td>\n",
       "    </tr>\n",
       "    <tr>\n",
       "      <th>1</th>\n",
       "      <td>132</td>\n",
       "      <td>0.006</td>\n",
       "      <td>0.0</td>\n",
       "      <td>0.006</td>\n",
       "      <td>0.003</td>\n",
       "      <td>0.0</td>\n",
       "      <td>0.0</td>\n",
       "      <td>17</td>\n",
       "      <td>2.1</td>\n",
       "      <td>0</td>\n",
       "      <td>...</td>\n",
       "      <td>68</td>\n",
       "      <td>198</td>\n",
       "      <td>6</td>\n",
       "      <td>1</td>\n",
       "      <td>141</td>\n",
       "      <td>136</td>\n",
       "      <td>140</td>\n",
       "      <td>12</td>\n",
       "      <td>0</td>\n",
       "      <td>1</td>\n",
       "    </tr>\n",
       "    <tr>\n",
       "      <th>2</th>\n",
       "      <td>133</td>\n",
       "      <td>0.003</td>\n",
       "      <td>0.0</td>\n",
       "      <td>0.008</td>\n",
       "      <td>0.003</td>\n",
       "      <td>0.0</td>\n",
       "      <td>0.0</td>\n",
       "      <td>16</td>\n",
       "      <td>2.1</td>\n",
       "      <td>0</td>\n",
       "      <td>...</td>\n",
       "      <td>68</td>\n",
       "      <td>198</td>\n",
       "      <td>5</td>\n",
       "      <td>1</td>\n",
       "      <td>141</td>\n",
       "      <td>135</td>\n",
       "      <td>138</td>\n",
       "      <td>13</td>\n",
       "      <td>0</td>\n",
       "      <td>1</td>\n",
       "    </tr>\n",
       "    <tr>\n",
       "      <th>3</th>\n",
       "      <td>134</td>\n",
       "      <td>0.003</td>\n",
       "      <td>0.0</td>\n",
       "      <td>0.008</td>\n",
       "      <td>0.003</td>\n",
       "      <td>0.0</td>\n",
       "      <td>0.0</td>\n",
       "      <td>16</td>\n",
       "      <td>2.4</td>\n",
       "      <td>0</td>\n",
       "      <td>...</td>\n",
       "      <td>53</td>\n",
       "      <td>170</td>\n",
       "      <td>11</td>\n",
       "      <td>0</td>\n",
       "      <td>137</td>\n",
       "      <td>134</td>\n",
       "      <td>137</td>\n",
       "      <td>13</td>\n",
       "      <td>1</td>\n",
       "      <td>1</td>\n",
       "    </tr>\n",
       "    <tr>\n",
       "      <th>4</th>\n",
       "      <td>132</td>\n",
       "      <td>0.007</td>\n",
       "      <td>0.0</td>\n",
       "      <td>0.008</td>\n",
       "      <td>0.000</td>\n",
       "      <td>0.0</td>\n",
       "      <td>0.0</td>\n",
       "      <td>16</td>\n",
       "      <td>2.4</td>\n",
       "      <td>0</td>\n",
       "      <td>...</td>\n",
       "      <td>53</td>\n",
       "      <td>170</td>\n",
       "      <td>9</td>\n",
       "      <td>0</td>\n",
       "      <td>137</td>\n",
       "      <td>136</td>\n",
       "      <td>138</td>\n",
       "      <td>11</td>\n",
       "      <td>1</td>\n",
       "      <td>1</td>\n",
       "    </tr>\n",
       "  </tbody>\n",
       "</table>\n",
       "<p>5 rows × 22 columns</p>\n",
       "</div>"
      ],
      "text/plain": [
       "    LB     AC   FM     UC     DL   DS   DP  ASTV  MSTV  ALTV  ...  Min  Max  \\\n",
       "0  120  0.000  0.0  0.000  0.000  0.0  0.0    73   0.5    43  ...   62  126   \n",
       "1  132  0.006  0.0  0.006  0.003  0.0  0.0    17   2.1     0  ...   68  198   \n",
       "2  133  0.003  0.0  0.008  0.003  0.0  0.0    16   2.1     0  ...   68  198   \n",
       "3  134  0.003  0.0  0.008  0.003  0.0  0.0    16   2.4     0  ...   53  170   \n",
       "4  132  0.007  0.0  0.008  0.000  0.0  0.0    16   2.4     0  ...   53  170   \n",
       "\n",
       "   Nmax  Nzeros  Mode  Mean  Median  Variance  Tendency  NSP  \n",
       "0     2       0   120   137     121        73         1    2  \n",
       "1     6       1   141   136     140        12         0    1  \n",
       "2     5       1   141   135     138        13         0    1  \n",
       "3    11       0   137   134     137        13         1    1  \n",
       "4     9       0   137   136     138        11         1    1  \n",
       "\n",
       "[5 rows x 22 columns]"
      ]
     },
     "execution_count": 4,
     "metadata": {},
     "output_type": "execute_result"
    }
   ],
   "source": [
    "data.head()"
   ]
  },
  {
   "cell_type": "markdown",
   "metadata": {},
   "source": [
    "## Display the data and types of each column"
   ]
  },
  {
   "cell_type": "code",
   "execution_count": 5,
   "metadata": {},
   "outputs": [
    {
     "data": {
      "text/plain": [
       "LB            int64\n",
       "AC          float64\n",
       "FM          float64\n",
       "UC          float64\n",
       "DL          float64\n",
       "DS          float64\n",
       "DP          float64\n",
       "ASTV          int64\n",
       "MSTV        float64\n",
       "ALTV          int64\n",
       "MLTV        float64\n",
       "Width         int64\n",
       "Min           int64\n",
       "Max           int64\n",
       "Nmax          int64\n",
       "Nzeros        int64\n",
       "Mode          int64\n",
       "Mean          int64\n",
       "Median        int64\n",
       "Variance      int64\n",
       "Tendency      int64\n",
       "NSP           int64\n",
       "dtype: object"
      ]
     },
     "execution_count": 5,
     "metadata": {},
     "output_type": "execute_result"
    }
   ],
   "source": [
    "data.dtypes"
   ]
  },
  {
   "cell_type": "markdown",
   "metadata": {},
   "source": [
    "## Show summary statistics "
   ]
  },
  {
   "cell_type": "code",
   "execution_count": 6,
   "metadata": {},
   "outputs": [
    {
     "data": {
      "text/html": [
       "<div>\n",
       "<style scoped>\n",
       "    .dataframe tbody tr th:only-of-type {\n",
       "        vertical-align: middle;\n",
       "    }\n",
       "\n",
       "    .dataframe tbody tr th {\n",
       "        vertical-align: top;\n",
       "    }\n",
       "\n",
       "    .dataframe thead th {\n",
       "        text-align: right;\n",
       "    }\n",
       "</style>\n",
       "<table border=\"1\" class=\"dataframe\">\n",
       "  <thead>\n",
       "    <tr style=\"text-align: right;\">\n",
       "      <th></th>\n",
       "      <th>LB</th>\n",
       "      <th>AC</th>\n",
       "      <th>FM</th>\n",
       "      <th>UC</th>\n",
       "      <th>DL</th>\n",
       "      <th>DS</th>\n",
       "      <th>DP</th>\n",
       "      <th>ASTV</th>\n",
       "      <th>MSTV</th>\n",
       "      <th>ALTV</th>\n",
       "      <th>...</th>\n",
       "      <th>Min</th>\n",
       "      <th>Max</th>\n",
       "      <th>Nmax</th>\n",
       "      <th>Nzeros</th>\n",
       "      <th>Mode</th>\n",
       "      <th>Mean</th>\n",
       "      <th>Median</th>\n",
       "      <th>Variance</th>\n",
       "      <th>Tendency</th>\n",
       "      <th>NSP</th>\n",
       "    </tr>\n",
       "  </thead>\n",
       "  <tbody>\n",
       "    <tr>\n",
       "      <th>count</th>\n",
       "      <td>2126.000000</td>\n",
       "      <td>2126.000000</td>\n",
       "      <td>2126.000000</td>\n",
       "      <td>2126.000000</td>\n",
       "      <td>2126.000000</td>\n",
       "      <td>2126.000000</td>\n",
       "      <td>2126.000000</td>\n",
       "      <td>2126.000000</td>\n",
       "      <td>2126.000000</td>\n",
       "      <td>2126.00000</td>\n",
       "      <td>...</td>\n",
       "      <td>2126.000000</td>\n",
       "      <td>2126.000000</td>\n",
       "      <td>2126.000000</td>\n",
       "      <td>2126.000000</td>\n",
       "      <td>2126.000000</td>\n",
       "      <td>2126.000000</td>\n",
       "      <td>2126.000000</td>\n",
       "      <td>2126.000000</td>\n",
       "      <td>2126.000000</td>\n",
       "      <td>2126.000000</td>\n",
       "    </tr>\n",
       "    <tr>\n",
       "      <th>mean</th>\n",
       "      <td>133.303857</td>\n",
       "      <td>0.003178</td>\n",
       "      <td>0.009481</td>\n",
       "      <td>0.004366</td>\n",
       "      <td>0.001889</td>\n",
       "      <td>0.000003</td>\n",
       "      <td>0.000159</td>\n",
       "      <td>46.990122</td>\n",
       "      <td>1.332785</td>\n",
       "      <td>9.84666</td>\n",
       "      <td>...</td>\n",
       "      <td>93.579492</td>\n",
       "      <td>164.025400</td>\n",
       "      <td>4.068203</td>\n",
       "      <td>0.323612</td>\n",
       "      <td>137.452023</td>\n",
       "      <td>134.610536</td>\n",
       "      <td>138.090310</td>\n",
       "      <td>18.808090</td>\n",
       "      <td>0.320320</td>\n",
       "      <td>1.304327</td>\n",
       "    </tr>\n",
       "    <tr>\n",
       "      <th>std</th>\n",
       "      <td>9.840844</td>\n",
       "      <td>0.003866</td>\n",
       "      <td>0.046666</td>\n",
       "      <td>0.002946</td>\n",
       "      <td>0.002960</td>\n",
       "      <td>0.000057</td>\n",
       "      <td>0.000590</td>\n",
       "      <td>17.192814</td>\n",
       "      <td>0.883241</td>\n",
       "      <td>18.39688</td>\n",
       "      <td>...</td>\n",
       "      <td>29.560212</td>\n",
       "      <td>17.944183</td>\n",
       "      <td>2.949386</td>\n",
       "      <td>0.706059</td>\n",
       "      <td>16.381289</td>\n",
       "      <td>15.593596</td>\n",
       "      <td>14.466589</td>\n",
       "      <td>28.977636</td>\n",
       "      <td>0.610829</td>\n",
       "      <td>0.614377</td>\n",
       "    </tr>\n",
       "    <tr>\n",
       "      <th>min</th>\n",
       "      <td>106.000000</td>\n",
       "      <td>0.000000</td>\n",
       "      <td>0.000000</td>\n",
       "      <td>0.000000</td>\n",
       "      <td>0.000000</td>\n",
       "      <td>0.000000</td>\n",
       "      <td>0.000000</td>\n",
       "      <td>12.000000</td>\n",
       "      <td>0.200000</td>\n",
       "      <td>0.00000</td>\n",
       "      <td>...</td>\n",
       "      <td>50.000000</td>\n",
       "      <td>122.000000</td>\n",
       "      <td>0.000000</td>\n",
       "      <td>0.000000</td>\n",
       "      <td>60.000000</td>\n",
       "      <td>73.000000</td>\n",
       "      <td>77.000000</td>\n",
       "      <td>0.000000</td>\n",
       "      <td>-1.000000</td>\n",
       "      <td>1.000000</td>\n",
       "    </tr>\n",
       "    <tr>\n",
       "      <th>25%</th>\n",
       "      <td>126.000000</td>\n",
       "      <td>0.000000</td>\n",
       "      <td>0.000000</td>\n",
       "      <td>0.002000</td>\n",
       "      <td>0.000000</td>\n",
       "      <td>0.000000</td>\n",
       "      <td>0.000000</td>\n",
       "      <td>32.000000</td>\n",
       "      <td>0.700000</td>\n",
       "      <td>0.00000</td>\n",
       "      <td>...</td>\n",
       "      <td>67.000000</td>\n",
       "      <td>152.000000</td>\n",
       "      <td>2.000000</td>\n",
       "      <td>0.000000</td>\n",
       "      <td>129.000000</td>\n",
       "      <td>125.000000</td>\n",
       "      <td>129.000000</td>\n",
       "      <td>2.000000</td>\n",
       "      <td>0.000000</td>\n",
       "      <td>1.000000</td>\n",
       "    </tr>\n",
       "    <tr>\n",
       "      <th>50%</th>\n",
       "      <td>133.000000</td>\n",
       "      <td>0.002000</td>\n",
       "      <td>0.000000</td>\n",
       "      <td>0.004000</td>\n",
       "      <td>0.000000</td>\n",
       "      <td>0.000000</td>\n",
       "      <td>0.000000</td>\n",
       "      <td>49.000000</td>\n",
       "      <td>1.200000</td>\n",
       "      <td>0.00000</td>\n",
       "      <td>...</td>\n",
       "      <td>93.000000</td>\n",
       "      <td>162.000000</td>\n",
       "      <td>3.000000</td>\n",
       "      <td>0.000000</td>\n",
       "      <td>139.000000</td>\n",
       "      <td>136.000000</td>\n",
       "      <td>139.000000</td>\n",
       "      <td>7.000000</td>\n",
       "      <td>0.000000</td>\n",
       "      <td>1.000000</td>\n",
       "    </tr>\n",
       "    <tr>\n",
       "      <th>75%</th>\n",
       "      <td>140.000000</td>\n",
       "      <td>0.006000</td>\n",
       "      <td>0.003000</td>\n",
       "      <td>0.007000</td>\n",
       "      <td>0.003000</td>\n",
       "      <td>0.000000</td>\n",
       "      <td>0.000000</td>\n",
       "      <td>61.000000</td>\n",
       "      <td>1.700000</td>\n",
       "      <td>11.00000</td>\n",
       "      <td>...</td>\n",
       "      <td>120.000000</td>\n",
       "      <td>174.000000</td>\n",
       "      <td>6.000000</td>\n",
       "      <td>0.000000</td>\n",
       "      <td>148.000000</td>\n",
       "      <td>145.000000</td>\n",
       "      <td>148.000000</td>\n",
       "      <td>24.000000</td>\n",
       "      <td>1.000000</td>\n",
       "      <td>1.000000</td>\n",
       "    </tr>\n",
       "    <tr>\n",
       "      <th>max</th>\n",
       "      <td>160.000000</td>\n",
       "      <td>0.019000</td>\n",
       "      <td>0.481000</td>\n",
       "      <td>0.015000</td>\n",
       "      <td>0.015000</td>\n",
       "      <td>0.001000</td>\n",
       "      <td>0.005000</td>\n",
       "      <td>87.000000</td>\n",
       "      <td>7.000000</td>\n",
       "      <td>91.00000</td>\n",
       "      <td>...</td>\n",
       "      <td>159.000000</td>\n",
       "      <td>238.000000</td>\n",
       "      <td>18.000000</td>\n",
       "      <td>10.000000</td>\n",
       "      <td>187.000000</td>\n",
       "      <td>182.000000</td>\n",
       "      <td>186.000000</td>\n",
       "      <td>269.000000</td>\n",
       "      <td>1.000000</td>\n",
       "      <td>3.000000</td>\n",
       "    </tr>\n",
       "  </tbody>\n",
       "</table>\n",
       "<p>8 rows × 22 columns</p>\n",
       "</div>"
      ],
      "text/plain": [
       "                LB           AC           FM           UC           DL  \\\n",
       "count  2126.000000  2126.000000  2126.000000  2126.000000  2126.000000   \n",
       "mean    133.303857     0.003178     0.009481     0.004366     0.001889   \n",
       "std       9.840844     0.003866     0.046666     0.002946     0.002960   \n",
       "min     106.000000     0.000000     0.000000     0.000000     0.000000   \n",
       "25%     126.000000     0.000000     0.000000     0.002000     0.000000   \n",
       "50%     133.000000     0.002000     0.000000     0.004000     0.000000   \n",
       "75%     140.000000     0.006000     0.003000     0.007000     0.003000   \n",
       "max     160.000000     0.019000     0.481000     0.015000     0.015000   \n",
       "\n",
       "                DS           DP         ASTV         MSTV        ALTV  ...  \\\n",
       "count  2126.000000  2126.000000  2126.000000  2126.000000  2126.00000  ...   \n",
       "mean      0.000003     0.000159    46.990122     1.332785     9.84666  ...   \n",
       "std       0.000057     0.000590    17.192814     0.883241    18.39688  ...   \n",
       "min       0.000000     0.000000    12.000000     0.200000     0.00000  ...   \n",
       "25%       0.000000     0.000000    32.000000     0.700000     0.00000  ...   \n",
       "50%       0.000000     0.000000    49.000000     1.200000     0.00000  ...   \n",
       "75%       0.000000     0.000000    61.000000     1.700000    11.00000  ...   \n",
       "max       0.001000     0.005000    87.000000     7.000000    91.00000  ...   \n",
       "\n",
       "               Min          Max         Nmax       Nzeros         Mode  \\\n",
       "count  2126.000000  2126.000000  2126.000000  2126.000000  2126.000000   \n",
       "mean     93.579492   164.025400     4.068203     0.323612   137.452023   \n",
       "std      29.560212    17.944183     2.949386     0.706059    16.381289   \n",
       "min      50.000000   122.000000     0.000000     0.000000    60.000000   \n",
       "25%      67.000000   152.000000     2.000000     0.000000   129.000000   \n",
       "50%      93.000000   162.000000     3.000000     0.000000   139.000000   \n",
       "75%     120.000000   174.000000     6.000000     0.000000   148.000000   \n",
       "max     159.000000   238.000000    18.000000    10.000000   187.000000   \n",
       "\n",
       "              Mean       Median     Variance     Tendency          NSP  \n",
       "count  2126.000000  2126.000000  2126.000000  2126.000000  2126.000000  \n",
       "mean    134.610536   138.090310    18.808090     0.320320     1.304327  \n",
       "std      15.593596    14.466589    28.977636     0.610829     0.614377  \n",
       "min      73.000000    77.000000     0.000000    -1.000000     1.000000  \n",
       "25%     125.000000   129.000000     2.000000     0.000000     1.000000  \n",
       "50%     136.000000   139.000000     7.000000     0.000000     1.000000  \n",
       "75%     145.000000   148.000000    24.000000     1.000000     1.000000  \n",
       "max     182.000000   186.000000   269.000000     1.000000     3.000000  \n",
       "\n",
       "[8 rows x 22 columns]"
      ]
     },
     "execution_count": 6,
     "metadata": {},
     "output_type": "execute_result"
    }
   ],
   "source": [
    "data.describe()   "
   ]
  },
  {
   "cell_type": "markdown",
   "metadata": {},
   "source": [
    "## To get a count of the three different foetal heart rate categories"
   ]
  },
  {
   "cell_type": "code",
   "execution_count": 7,
   "metadata": {},
   "outputs": [
    {
     "data": {
      "text/plain": [
       "<matplotlib.axes._subplots.AxesSubplot at 0x21c0a3c5358>"
      ]
     },
     "execution_count": 7,
     "metadata": {},
     "output_type": "execute_result"
    },
    {
     "data": {
      "image/png": "[encoded data removed]",
      "text/plain": [
       "<Figure size 432x288 with 1 Axes>"
      ]
     },
     "metadata": {
      "needs_background": "light"
     },
     "output_type": "display_data"
    }
   ],
   "source": [
    "sns.countplot(x = 'NSP', data = data)  "
   ]
  },
  {
   "cell_type": "markdown",
   "metadata": {},
   "source": [
    "## Next we will create a numpy array of the features and label."
   ]
  },
  {
   "cell_type": "code",
   "execution_count": 8,
   "metadata": {},
   "outputs": [],
   "source": [
    "Features = np.array(data[['LB', 'AC', 'FM', 'UC', 'DL', 'DS', 'DP', 'ASTV', 'MSTV', 'ALTV', 'MLTV', 'Width', 'Min', 'Max', 'Nmax', 'Nzeros', 'Mode', 'Mean', 'Median', 'Variance', 'Tendency']])\n",
    "Labels =  np.array(data[['NSP']])   "
   ]
  },
  {
   "cell_type": "markdown",
   "metadata": {},
   "source": [
    "## Now we will partition the dataset into training and test datasets"
   ]
  },
  {
   "cell_type": "code",
   "execution_count": 13,
   "metadata": {},
   "outputs": [],
   "source": [
    "# Split the dataset into test and training set\n",
    "nr.seed(1115)\n",
    "indx = range(Features.shape[0])\n",
    "indx = ms.train_test_split(indx, test_size = 1701)\n",
    "X_train = Features[indx[0],:]\n",
    "y_train = np.ravel(Labels[indx[0]])\n",
    "X_test = Features[indx[1],:]\n",
    "y_test = np.ravel(Labels[indx[1]])"
   ]
  },
  {
   "cell_type": "markdown",
   "metadata": {},
   "source": [
    "## Standardize the dataset using the zscore standardization process"
   ]
  },
  {
   "cell_type": "code",
   "execution_count": 16,
   "metadata": {},
   "outputs": [],
   "source": [
    "scale = preprocessing.StandardScaler()\n",
    "scale.fit(X_train)\n",
    "X_train = scale.transform(X_train)"
   ]
  },
  {
   "cell_type": "markdown",
   "metadata": {},
   "source": [
    "## Next we define and train the KNN model.\n",
    "## The KNN model is defined as having K = 3 i.e. three nearest neighbors.\n",
    "## The model is trained using the fit method with the feature and label numpy arrays as arguments. "
   ]
  },
  {
   "cell_type": "code",
   "execution_count": 17,
   "metadata": {},
   "outputs": [
    {
     "data": {
      "text/plain": [
       "KNeighborsClassifier(algorithm='auto', leaf_size=30, metric='minkowski',\n",
       "           metric_params=None, n_jobs=None, n_neighbors=3, p=2,\n",
       "           weights='uniform')"
      ]
     },
     "execution_count": 17,
     "metadata": {},
     "output_type": "execute_result"
    }
   ],
   "source": [
    "KNN_mod = KNeighborsClassifier(n_neighbors = 3)\n",
    "KNN_mod.fit(X_train, y_train)"
   ]
  },
  {
   "cell_type": "markdown",
   "metadata": {},
   "source": [
    "## The predict method is used to compute KNN predictions from the model using the test features as an argument."
   ]
  },
  {
   "cell_type": "code",
   "execution_count": 18,
   "metadata": {},
   "outputs": [],
   "source": [
    "X_test = scale.transform(X_test)\n",
    "scores = KNN_mod.predict(X_test)"
   ]
  },
  {
   "cell_type": "markdown",
   "metadata": {},
   "source": [
    "##  Next we evaluate the performance of the model.\n",
    "##  We show the confusion matrix and the accuracy, precision, F1 and recall metrics."
   ]
  },
  {
   "cell_type": "code",
   "execution_count": 19,
   "metadata": {},
   "outputs": [
    {
     "name": "stdout",
     "output_type": "stream",
     "text": [
      "                 Confusion matrix\n",
      "                 Score Normal   Score Suspect    Score Pathologic\n",
      "Actual Normal        1264               67                 4\n",
      "Actual Suspect         78              143                 3\n",
      "Actual Pathologic      24               27                91\n",
      "\n",
      "Accuracy        0.88\n",
      " \n",
      "          Normal  Suspect  Pathologic\n",
      "Num case   1335.00     224.00      142.00\n",
      "Precision   0.93      0.60       0.93\n",
      "Recall      0.95      0.64       0.64\n",
      "F1          0.94      0.62       0.76\n"
     ]
    }
   ],
   "source": [
    "# Evaluating the model results\n",
    "\n",
    "def print_metrics_3(labels, scores):\n",
    "   \n",
    "    conf = sklm.confusion_matrix(labels, scores)\n",
    "    print('                 Confusion matrix')\n",
    "    print('                 Score Normal   Score Suspect    Score Pathologic')\n",
    "    print('Actual Normal      %6d' % conf[0,0] + '            %5d' % conf[0,1] + '             %5d' % conf[0,2])\n",
    "    print('Actual Suspect     %6d' % conf[1,0] + '            %5d' % conf[1,1] + '             %5d' % conf[1,2])\n",
    "    print('Actual Pathologic  %6d' % conf[2,0] + '            %5d' % conf[2,1] + '             %5d' % conf[2,2])\n",
    "    ## Now compute and display the accuracy and metrics\n",
    "    print('')\n",
    "    print('Accuracy        %0.2f' % sklm.accuracy_score(labels, scores))\n",
    "    metrics = sklm.precision_recall_fscore_support(labels, scores)\n",
    "    print(' ')\n",
    "    print('          Normal  Suspect  Pathologic')\n",
    "    print('Num case   %0.2f' % metrics[3][0] + '     %0.2f' % metrics[3][1] + '      %0.2f' % metrics[3][2])\n",
    "    print('Precision   %0.2f' % metrics[0][0] + '      %0.2f' % metrics[0][1] + '       %0.2f' % metrics[0][2])\n",
    "    print('Recall      %0.2f' % metrics[1][0] + '      %0.2f' % metrics[1][1] + '       %0.2f' % metrics[1][2])\n",
    "    print('F1          %0.2f' % metrics[2][0] + '      %0.2f' % metrics[2][1] + '       %0.2f' % metrics[2][2])\n",
    "    \n",
    "print_metrics_3(y_test, scores)"
   ]
  },
  {
   "cell_type": "markdown",
   "metadata": {},
   "source": [
    "## Another way of getting the model accuracy\n",
    "## The predictions are scored as correct or not using a list comprehension. Accuracy is computed as the percentage of the test cases correctly classified."
   ]
  },
  {
   "cell_type": "code",
   "execution_count": 20,
   "metadata": {},
   "outputs": [
    {
     "name": "stdout",
     "output_type": "stream",
     "text": [
      "88.06584362139918\n"
     ]
    }
   ],
   "source": [
    "num_cols = ['LB', 'AC', 'FM', 'UC', 'DL', 'DS', 'DP', 'ASTV', 'MSTV', 'ALTV', 'MLTV', 'Width', 'Min', 'Max', 'Nmax', 'Nzeros', 'Mode', 'Mean', 'Median', 'Variance', 'Tendency']\n",
    "data_test = pd.DataFrame(X_test, columns = num_cols) \n",
    "data_test['predicted'] = KNN_mod.predict(X_test)\n",
    "data_test['correct'] = [1 if x == z else 0 for x, z in zip(data_test['predicted'], y_test)] \n",
    "accuracy = 100.0*float(sum(data_test['correct']))/float(data_test.shape[0]) \n",
    "print(accuracy) "
   ]
  },
  {
   "cell_type": "code",
   "execution_count": 22,
   "metadata": {},
   "outputs": [
    {
     "data": {
      "text/plain": [
       "'Done'"
      ]
     },
     "execution_count": 22,
     "metadata": {},
     "output_type": "execute_result"
    },
    {
     "data": {
      "image/png": "[encoded data removed]",
      "text/plain": [
       "<Figure size 432x432 with 1 Axes>"
      ]
     },
     "metadata": {
      "needs_background": "light"
     },
     "output_type": "display_data"
    },
    {
     "data": {
      "image/png": "[encoded data removed]",
      "text/plain": [
       "<Figure size 432x432 with 1 Axes>"
      ]
     },
     "metadata": {
      "needs_background": "light"
     },
     "output_type": "display_data"
    }
   ],
   "source": [
    "# Examine plots of the classifications of the heart rate categories\n",
    "levels = {1:'Normal', 2:'Suspect', 3:'Pathologic'}\n",
    "data_test['NSP'] = [levels[x] for x in data_test['predicted']]\n",
    "markers = {2:'^', 1:'o'}\n",
    "colors = {'Normal':'blue', 'Suspect':'green', 'Pathologic':'red'}\n",
    "def plot_shapes(df, col1,col2,  markers, colors):\n",
    "    import matplotlib.pyplot as plt\n",
    "    import seaborn as sns\n",
    "    ax = plt.figure(figsize=(6, 6)).gca() # define plot axis\n",
    "    for m in markers: # iterate over marker dictioary keys\n",
    "        for c in colors: # iterate over color dictionary keys\n",
    "            df_temp = df[(df['correct'] == m)  & (df['NSP'] == c)]\n",
    "            sns.regplot(x = col1, y = col2, \n",
    "                        data = df_temp,  \n",
    "                        fit_reg = False, \n",
    "                        scatter_kws={'color': colors[c]},\n",
    "                        marker = markers[m],\n",
    "                        ax = ax)\n",
    "    plt.xlabel(col1)\n",
    "    plt.ylabel(col2)\n",
    "    plt.title('Foetal herat rates by color')\n",
    "    return 'Done'\n",
    "plot_shapes(data_test, 'ASTV', 'MSTV', markers, colors)\n",
    "plot_shapes(data_test, 'ALTV', 'MSTV', markers, colors)"
   ]
  },
  {
   "cell_type": "markdown",
   "metadata": {},
   "source": [
    "## Sensitivity analysis: we will try with k = 5 and k=1 next to see if prediction accuracy improves or not. "
   ]
  },
  {
   "cell_type": "code",
   "execution_count": 23,
   "metadata": {},
   "outputs": [
    {
     "name": "stdout",
     "output_type": "stream",
     "text": [
      "                 Confusion matrix\n",
      "                 Score Normal   Score Suspect    Score Pathologic\n",
      "Actual Normal        1283                0                52\n",
      "Actual Suspect        214                0                10\n",
      "Actual Pathologic      68                0                74\n",
      "\n",
      "Accuracy        0.80\n",
      " \n",
      "          Normal  Suspect  Pathologic\n",
      "Num case   1335.00     224.00      142.00\n",
      "Precision   0.82      0.00       0.54\n",
      "Recall      0.96      0.00       0.52\n",
      "F1          0.88      0.00       0.53\n"
     ]
    },
    {
     "name": "stderr",
     "output_type": "stream",
     "text": [
      "C:\\Users\\Amit Ghosh.SFH-315-0605\\Anaconda3\\lib\\site-packages\\sklearn\\metrics\\classification.py:1143: UndefinedMetricWarning: Precision and F-score are ill-defined and being set to 0.0 in labels with no predicted samples.\n",
      "  'precision', 'predicted', average, warn_for)\n"
     ]
    }
   ],
   "source": [
    "## KNN model with k = 5.\n",
    "\n",
    "KNN_mod = KNeighborsClassifier(n_neighbors = 5)\n",
    "KNN_mod.fit(X_train, y_train)\n",
    "X_test = scale.transform(X_test)\n",
    "scores = KNN_mod.predict(X_test)\n",
    "\n",
    "def print_metrics_5(labels, scores):\n",
    "   \n",
    "    conf = sklm.confusion_matrix(labels, scores)\n",
    "    print('                 Confusion matrix')\n",
    "    print('                 Score Normal   Score Suspect    Score Pathologic')\n",
    "    print('Actual Normal      %6d' % conf[0,0] + '            %5d' % conf[0,1] + '             %5d' % conf[0,2])\n",
    "    print('Actual Suspect     %6d' % conf[1,0] + '            %5d' % conf[1,1] + '             %5d' % conf[1,2])\n",
    "    print('Actual Pathologic  %6d' % conf[2,0] + '            %5d' % conf[2,1] + '             %5d' % conf[2,2])\n",
    "    ## Now compute and display the accuracy and metrics\n",
    "    print('')\n",
    "    print('Accuracy        %0.2f' % sklm.accuracy_score(labels, scores))\n",
    "    metrics = sklm.precision_recall_fscore_support(labels, scores)\n",
    "    print(' ')\n",
    "    print('          Normal  Suspect  Pathologic')\n",
    "    print('Num case   %0.2f' % metrics[3][0] + '     %0.2f' % metrics[3][1] + '      %0.2f' % metrics[3][2])\n",
    "    print('Precision   %0.2f' % metrics[0][0] + '      %0.2f' % metrics[0][1] + '       %0.2f' % metrics[0][2])\n",
    "    print('Recall      %0.2f' % metrics[1][0] + '      %0.2f' % metrics[1][1] + '       %0.2f' % metrics[1][2])\n",
    "    print('F1          %0.2f' % metrics[2][0] + '      %0.2f' % metrics[2][1] + '       %0.2f' % metrics[2][2])\n",
    "    \n",
    "print_metrics_5(y_test, scores)"
   ]
  },
  {
   "cell_type": "code",
   "execution_count": 24,
   "metadata": {},
   "outputs": [
    {
     "name": "stdout",
     "output_type": "stream",
     "text": [
      "                 Confusion matrix\n",
      "                 Score Normal   Score Suspect    Score Pathologic\n",
      "Actual Normal        1144              139                52\n",
      "Actual Suspect        123               91                10\n",
      "Actual Pathologic      31               33                78\n",
      "\n",
      "Accuracy        0.77\n",
      " \n",
      "          Normal  Suspect  Pathologic\n",
      "Num case   1335.00     224.00      142.00\n",
      "Precision   0.88      0.35       0.56\n",
      "Recall      0.86      0.41       0.55\n",
      "F1          0.87      0.37       0.55\n"
     ]
    }
   ],
   "source": [
    "## KNN model with k = 1.\n",
    "\n",
    "KNN_mod = KNeighborsClassifier(n_neighbors = 1)\n",
    "KNN_mod.fit(X_train, y_train)\n",
    "X_test = scale.transform(X_test)\n",
    "scores = KNN_mod.predict(X_test)\n",
    "\n",
    "def print_metrics_1(labels, scores):\n",
    "   \n",
    "    conf = sklm.confusion_matrix(labels, scores)\n",
    "    print('                 Confusion matrix')\n",
    "    print('                 Score Normal   Score Suspect    Score Pathologic')\n",
    "    print('Actual Normal      %6d' % conf[0,0] + '            %5d' % conf[0,1] + '             %5d' % conf[0,2])\n",
    "    print('Actual Suspect     %6d' % conf[1,0] + '            %5d' % conf[1,1] + '             %5d' % conf[1,2])\n",
    "    print('Actual Pathologic  %6d' % conf[2,0] + '            %5d' % conf[2,1] + '             %5d' % conf[2,2])\n",
    "    ## Now compute and display the accuracy and metrics\n",
    "    print('')\n",
    "    print('Accuracy        %0.2f' % sklm.accuracy_score(labels, scores))\n",
    "    metrics = sklm.precision_recall_fscore_support(labels, scores)\n",
    "    print(' ')\n",
    "    print('          Normal  Suspect  Pathologic')\n",
    "    print('Num case   %0.2f' % metrics[3][0] + '     %0.2f' % metrics[3][1] + '      %0.2f' % metrics[3][2])\n",
    "    print('Precision   %0.2f' % metrics[0][0] + '      %0.2f' % metrics[0][1] + '       %0.2f' % metrics[0][2])\n",
    "    print('Recall      %0.2f' % metrics[1][0] + '      %0.2f' % metrics[1][1] + '       %0.2f' % metrics[1][2])\n",
    "    print('F1          %0.2f' % metrics[2][0] + '      %0.2f' % metrics[2][1] + '       %0.2f' % metrics[2][2])\n",
    "    \n",
    "print_metrics_1(y_test, scores)"
   ]
  },
  {
   "cell_type": "markdown",
   "metadata": {},
   "source": [
    "## Overall the sensitivity analysis reveals that k = 3 is the best KNN model."
   ]
  }
 ],
 "metadata": {
  "kernelspec": {
   "display_name": "Python 3",
   "language": "python",
   "name": "python3"
  },
  "language_info": {
   "codemirror_mode": {
    "name": "ipython",
    "version": 3
   },
   "file_extension": ".py",
   "mimetype": "text/x-python",
   "name": "python",
   "nbconvert_exporter": "python",
   "pygments_lexer": "ipython3",
   "version": "3.7.3"
  }
 },
 "nbformat": 4,
 "nbformat_minor": 2
}
